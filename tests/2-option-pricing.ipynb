{
 "cells": [
  {
   "cell_type": "markdown",
   "metadata": {},
   "source": [
    "## Option pricing\n",
    "\n",
    "Text.\n",
    "\n",
    "---"
   ]
  },
  {
   "cell_type": "markdown",
   "metadata": {},
   "source": [
    "---\n",
    "\n",
    "### Black-Scholes model\n",
    "\n",
    "The Black-Scholes model allows to compute the theoretical value of an option contract for European options, given a stock $S(t) is modelled using a Brownian SDE, based on five input variables:\n",
    "\n",
    "![](./img/bs-model-overview.png)\n",
    "\n",
    "for which the dynamics are given by\n",
    "\n",
    "$$\n",
    "\tdM(t) = rM(t)dt\n",
    "\t\\\\\n",
    "\tdS(t) = \\bar{\\mu}(t,S)dt + \\bar{\\sigma}(t,S)dW^{\\mathbb{Q}}(t), \\quad t > t_0\n",
    "\t\\\\\n",
    "\tdV(t) = \\frac{\\partial V}{\\partial t}\n",
    "$$\n",
    "\n",
    "and an analytical solution can be obtained using the Feynman-Kac theorem, as\n",
    "\n",
    "$$\n",
    "\tV(t) = e^{-r(T-t)}\\mathbb{E}^{\\mathbb{Q}}[H(T,S) \\vert \\digamma(t)] := M(t)\\mathbb{Q}[\\frac{H(T,S)}{M(T)} \\vert \\digamma(t)],\n",
    "$$\n",
    "where the expectation is taken under the measure $\\mathbb{Q}$, with respect to the process $S$, defined by $dS(t)$.\n"
   ]
  }
 ],
 "metadata": {
  "kernelspec": {
   "display_name": "Python 3.9.10 64-bit",
   "language": "python",
   "name": "python3"
  },
  "language_info": {
   "codemirror_mode": {
    "name": "ipython",
    "version": 3
   },
   "file_extension": ".py",
   "mimetype": "text/x-python",
   "name": "python",
   "nbconvert_exporter": "python",
   "pygments_lexer": "ipython3",
   "version": "3.9.10"
  },
  "orig_nbformat": 4,
  "vscode": {
   "interpreter": {
    "hash": "16df692f1f6e2a1e1ce4185923fc5153d51899e32dce251143dce7d99e9dac23"
   }
  }
 },
 "nbformat": 4,
 "nbformat_minor": 2
}
