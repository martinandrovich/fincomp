{
 "cells": [
  {
   "cell_type": "markdown",
   "metadata": {},
   "source": [
    "## Option pricing\n",
    "\n",
    "Text.\n",
    "\n",
    "---"
   ]
  },
  {
   "cell_type": "markdown",
   "metadata": {},
   "source": [
    "---\n",
    "\n",
    "### Black-Scholes model\n",
    "\n",
    "Given a stock $S(t)$ is modelled under the risk-neutral Geometric Brownian Motion (GBM) model, the Black-Scholes model allows to compute the theoretical value of an option contract for European options based on five input variables:\n",
    "\n",
    "![](./img/bs-model-overview.png)\n",
    "\n",
    "for which the dynamics of the stock and option value, under risk-neutral measure $\\mathbb{Q}$, are given by\n",
    "\n",
    "\\begin{align}\n",
    "\tdS(t) &= \\mu \\cdot S(t) \\cdot dt + \\sigma \\cdot S(t) \\cdot dW^{\\mathbb{Q}}(t),\n",
    "\t\\\\\n",
    "\tdV(t, S) &= \\mu \\cdot S(t) \\cdot dt + \\sigma \\cdot S(t) \\cdot dW(t),\n",
    "\\end{align}\n",
    "\n",
    "which yields the Black-Scholes pricing PDE\n",
    "\n",
    "\\begin{equation}\n",
    "\td \\mathbf{X}\n",
    "\t= \\bar{\\mathbf{\\mu}}dt + \\mathbf{D}\\mathbf{L} d\\tilde{\\mathbf{W}}\n",
    "\t= \\bar{\\mathbf{\\mu}}dt + \\bar{\\mathbf{\\sigma}} d\\tilde{\\mathbf{W}},\n",
    "\\end{equation}\n",
    "\n",
    "with a terminal condition $V(T, S) = H(T, S)$ specified by some payoff function $H(T, S)$ at time $T$, based on whether the type of the option contract (CALL or PUT).\n",
    "\n",
    "The **Feynman-Kac theorem** allows to express the solution to a PDE with a terminal condition (in this case the Black-Scholes pricing PDE) in terms of an expectation\n",
    "\n",
    "\\begin{equation}\n",
    "\tV(t) = e^{-r(T-t)} \\cdot \\mathbb{E}^{\\mathbb{Q}} [H(T,S) | \\mathcal{F}(t)],\n",
    "\\end{equation}\n",
    "\n",
    "where the expectation can be solved using simulation or integration. An analytical solution then given by\n",
    "\n",
    "\\begin{equation}\n",
    "\tV(t) = e^{-r(T-t)} \\cdot \\mathbb{E}^{\\mathbb{Q}} [H(T,S) | \\mathcal{F}(t)].\n",
    "\\end{equation}"
   ]
  }
 ],
 "metadata": {
  "kernelspec": {
   "display_name": "Python 3.9.10 64-bit",
   "language": "python",
   "name": "python3"
  },
  "language_info": {
   "codemirror_mode": {
    "name": "ipython",
    "version": 3
   },
   "file_extension": ".py",
   "mimetype": "text/x-python",
   "name": "python",
   "nbconvert_exporter": "python",
   "pygments_lexer": "ipython3",
   "version": "3.9.10"
  },
  "orig_nbformat": 4,
  "vscode": {
   "interpreter": {
    "hash": "16df692f1f6e2a1e1ce4185923fc5153d51899e32dce251143dce7d99e9dac23"
   }
  }
 },
 "nbformat": 4,
 "nbformat_minor": 2
}
