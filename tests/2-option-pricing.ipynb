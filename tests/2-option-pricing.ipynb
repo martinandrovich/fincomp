{
 "cells": [
  {
   "cell_type": "markdown",
   "metadata": {},
   "source": [
    "## Option pricing\n",
    "\n",
    "Text.\n",
    "\n",
    "---"
   ]
  },
  {
   "cell_type": "markdown",
   "metadata": {},
   "source": [
    "---\n",
    "\n",
    "### Black-Scholes model\n",
    "\n",
    "Given a stock $S(t)$ is modelled under the risk-neutral Geometric Brownian Motion (GBM) model, the Black-Scholes model allows to compute the theoretical value of an option contract for European options based on five input variables:\n",
    "\n",
    "![](./img/bs-model-overview.png)\n",
    "\n",
    "for which the dynamics of the stock and option value, under risk-neutral measure $\\mathbb{Q}$, are given by\n",
    "\n",
    "\\begin{align}\n",
    "\tdS(t) &= r \\cdot S(t) \\cdot dt + \\sigma \\cdot S(t) \\cdot dW^{\\mathbb{Q}}(t),\n",
    "\t\\\\\n",
    "\tdV(t, S) &= \\left( \\frac{\\partial V(t,S)} {\\partial t} + r \\frac{\\partial V(t,S)} {\\partial S} + \\frac{1}{2}  \\sigma^2 \\frac{\\partial^2 V(t,S)} {\\partial S^2} \\right)dt + \\sigma  \\frac{\\partial V} {\\partial S} dW^{\\mathbb{Q}} ,\n",
    "\\end{align}\n",
    "\n",
    "which yields the Black-Scholes pricing PDE\n",
    "\n",
    "\\begin{equation}\n",
    "\t\n",
    "\t\\frac{dV(t, S)}{\\partial t}  + rS \\frac{\\partial V(t,S)} {\\partial S} + \\sigma^2 \\frac{\\partial^2 V(t,S)} {\\partial S^2} - rV(t,S) = 0,\n",
    "\n",
    "\\end{equation}\n",
    "\n",
    "with a terminal condition $V(T, S) = H(T, S)$ specified by some payoff function $H(T, S)$ at time $T$, based on whether the type of the option contract (CALL or PUT).\n",
    "\n",
    "The **Feynman-Kac theorem** allows to express the solution to a PDE with a terminal condition (in this case the Black-Scholes pricing PDE) in terms of an expectation\n",
    "\n",
    "\\begin{equation}\n",
    "\tV(t) = e^{-r(T-t)} \\cdot \\mathbb{E}^{\\mathbb{Q}} [H(T,S) | \\mathcal{F}(t)],\n",
    "\\end{equation}\n",
    "\n",
    "where the expectation can be solved using simulation or integration. An analytical solution is then given by\n",
    "\n",
    "\\begin{align}\n",
    "\tV_{c}(t,S)  & = S(t)F_{\\mathcal{N(0,1)}}(d_1) - Ke^{-r(T-t)}F_{\\mathcal{N(0,1)}}(d_2),\n",
    "\t\\\\\n",
    "\tV_{p}(t,S)  & = Ke^{-r(T-t)}F_{\\mathcal{N(0,1)}}(-d_2) - S(t)F_{\\mathcal{N(0,1)}}(-d_{1}),\n",
    "\\end{align}\n",
    "with \n",
    "\n",
    "\\begin{equation}\n",
    "\td_1 = \\frac{ \\log\\frac{S(t)}{K} + (r + \\frac{1}{2} \\sigma^2)(T-t)}{\\sigma \\sqrt{T-t}} \\quad, \\quad d_2 = d_1 - \\sigma \\sqrt{T-t},\n",
    "\\end{equation}\n",
    "and $ F_{\\mathcal{N(0,1)}} $ being the cdf of a standard normal distribution.\n",
    "\n",
    "The Black-Scholes model is based on several assumtions:\n",
    "\n",
    "\t- European options only exercised at maturity 𝑇.\t\n",
    "\t- The asset price (and returns) follows a lognormal random walk driven by GBM.\t\n",
    "\t- Interest rate 𝑟 and volatility 𝜎 are known and deterministic/constant.\t\n",
    "\t- Transaction costs for continuous rebalancing (Δ𝑡) are ignored.\t\n",
    "\t- Dividend payouts are ignored.\t\n",
    "\t- Independent of drift term 𝜇, but driven by volatility 𝜎.\n",
    "\n"
   ]
  }
 ],
 "metadata": {
  "kernelspec": {
   "display_name": "Python 3.9.10 64-bit",
   "language": "python",
   "name": "python3"
  },
  "language_info": {
   "codemirror_mode": {
    "name": "ipython",
    "version": 3
   },
   "file_extension": ".py",
   "mimetype": "text/x-python",
   "name": "python",
   "nbconvert_exporter": "python",
   "pygments_lexer": "ipython3",
   "version": "3.9.10"
  },
  "orig_nbformat": 4,
  "vscode": {
   "interpreter": {
    "hash": "16df692f1f6e2a1e1ce4185923fc5153d51899e32dce251143dce7d99e9dac23"
   }
  }
 },
 "nbformat": 4,
 "nbformat_minor": 2
}
