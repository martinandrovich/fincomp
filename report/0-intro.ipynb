{
 "cells": [
  {
   "cell_type": "markdown",
   "metadata": {},
   "source": [
    "# Computational Finance\n",
    "\n",
    "---\n",
    "\n",
    "An interactive version of this report is available at (much recommended):\n",
    "\n",
    "<https://github.com/martinandrovich/pyfin/blob/main/report/report.ipynb>\n",
    "\n",
    "---\n",
    "\n",
    "Written by:\n",
    "\n",
    "- Martin Androvich (<marta16@student.sdu.dk>)\n",
    "- Peter Ørholm Nielsen (<pniel17@student.sdu.dk>)\n",
    "\n",
    "for the course **Mathematical modelling and machine learning applied for finance** , under the supervision of [Claus Vaarning](https://portal.findresearcher.sdu.dk/en/persons/cv) at the **University of Southern Denmark**.\n",
    "\n",
    "Claus, we thank you for your guidance and valiant effort, going through this journey with us.\n",
    "\n",
    "---\n",
    "\n",
    "Computational finance can be largely summarized by two areas of interest:\n",
    "\n",
    "- Efficient and accurate of fair values of financial securities\n",
    "- Modelling of stochastic time series\n",
    "\n",
    "Generally, the objective is to **develop a theoretically sound model** and **perform pricing** (implement tools), based on a **set of requirements** (portfolio, risk etc.). The model should perform in all kinds of circumstances (market crash, unexpected move etc.).\n",
    "\n",
    "This project case dives into the **fundamentals of computational finance**, herein the basic stochastic processes, stock dynamics models, and pricing of European options using analytical and numerical solutions.\n",
    "\n",
    "---"
   ]
  }
 ],
 "metadata": {
  "kernelspec": {
   "display_name": "Python 3.9.10 64-bit",
   "language": "python",
   "name": "python3"
  },
  "language_info": {
   "name": "python",
   "version": "3.9.10"
  },
  "orig_nbformat": 4,
  "vscode": {
   "interpreter": {
    "hash": "16df692f1f6e2a1e1ce4185923fc5153d51899e32dce251143dce7d99e9dac23"
   }
  }
 },
 "nbformat": 4,
 "nbformat_minor": 2
}
