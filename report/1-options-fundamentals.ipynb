{
 "cells": [
  {
   "cell_type": "markdown",
   "metadata": {},
   "source": [
    "<div style=\"page-break-after: always;\"></div>\n",
    "\n",
    "## Options fundamentals\n",
    "\n",
    "### Options\n",
    "\n",
    "An option is a **contract** written by a seller (writer), sold to a buyer at a **premium**, which gives the buyer the option (not obligation) to **exercise** the contract and buy the **underlying asset** (e.g., stock) at a pre-viously agreed **strike price** before the contract **matures** with respect to an **expiration date**. A seller of an option might get **assigned**, if the buyer decides to exercise.\n",
    "\n",
    "The **premium** (price) of an option is based on the **intrinsic value** and **extrinsic value**. The intrinsic value is simply the difference between the stock price and strike price. The **extrinsic value** is based on **time to expiration** and **implied volatility**. Volatility is more predictable than stock price.\n",
    "\n",
    "<!-- ![](./img/options-price.png) -->\n",
    "<p align=\"center\"><img src=\"./img/options-price.png\"></p>\n",
    "\n",
    "If an option is worthless at expiration $t = T$, it is said to be **out of the money**; vice versa for **in the money** options. The **moneyness** of an option is a **ratio** of the **strike-to-stock** price $\\frac{K}{S\\left(t\\right)}$ with respect to the stock price at $S(t)$.\n",
    "\n",
    "<div style=\"page-break-after: always;\"></div>\n",
    "\n",
    "For example, a call option at a strike of 140 (the right to buy the stock at that price) and current stock price of 125 will be completely useless at expiration (cost 0), since it provides no value, with a moneyness of $\\frac{140}{125} = 1.12$, **thus out of the money**.\n",
    "\n",
    "<!-- ![](./img/options-atm.png) -->\n",
    "<p align=\"center\"><img src=\"./img/options-atm.png\"></p>\n",
    "\n",
    "At expiration, **the remaining value** of an option is only the intrinsic value (difference between stock price and strike price), since there is no time value left. Therefore, all out-of-the money stocks are worth 0 at expiration.\n",
    "\n",
    "Options are especially powerful since they provide **leverage**. That is, one can bet on the *change of the stock* without necessaritly buying the stock, gaining more investing capital (money to be used elsewhere).\n",
    "\n",
    "---\n",
    "\n",
    "### Payoff function\n",
    "\n",
    "Given a stock $S(t)$ with strike $K$ and maturity $T$, the **payoff** $H(S,T)$ defines the profit of an option. For a **call option** at maturity $T$ is given by\n",
    "\n",
    "$$V_{call}\\left(T,\\ S_T\\right)=\\max{\\left(S_T-K,0\\right)}$$\n",
    "\n",
    "where $S_T := S(T)$ is the stock price at maturity $T$. Likewise, the value of a **put option** is given by\n",
    "\n",
    "$$V_{put}\\left(T,\\ S_T\\right)=\\max{\\left(K-S_T,0\\right)}$$\n",
    "\n",
    "which can be visualized as a **payoff diagram** (stock price on $x$-axis) for the four different cases:\n",
    "\n",
    "<!-- ![](./img/options-diagram.png) -->\n",
    "<p align=\"center\"><img src=\"./img/options-diagram.png\"></p>\n",
    "\n",
    "Here, a **long put** indicates that the investor hopes that the **value of the option** goes up (long on the option), which means the investor is actually **short on the underlying** (short on the stock).\n",
    "\n",
    "---\n",
    "\n",
    "### Implied volatility\n",
    "\n",
    "Implied volatility is a **forward-looking metric** (unlike historical volatility) of an underlying stock. It represents the **one standard deviation expected price range** over a one-year period, **based on the current option prices**.\n",
    "\n",
    "The implied volatility is a metric based on what the **marketplace is “implying”** the volatility of the stock will be in the future, based on **price changes in an option**. Based on truth and rumors in the market-place, option prices will begin to change. Therefore, the price of options will change independently of the underlying stock price.\n",
    "\n",
    "<!-- ![](./img/options-movement.png) -->\n",
    "<p align=\"center\"><img src=\"./img/options-movement.png\"></p>\n",
    "\n",
    "Technically, **implied volatility** is calculated by taking the market price of the option, entering it into the **Black-Scholes formula**, and **back-solving** for the value of the volatility.\n",
    "\n"
   ]
  }
 ],
 "metadata": {
  "kernelspec": {
   "display_name": "Python 3.9.10 64-bit",
   "language": "python",
   "name": "python3"
  },
  "language_info": {
   "codemirror_mode": {
    "name": "ipython",
    "version": 3
   },
   "file_extension": ".py",
   "mimetype": "text/x-python",
   "name": "python",
   "nbconvert_exporter": "python",
   "pygments_lexer": "ipython3",
   "version": "3.9.10"
  },
  "orig_nbformat": 4,
  "vscode": {
   "interpreter": {
    "hash": "16df692f1f6e2a1e1ce4185923fc5153d51899e32dce251143dce7d99e9dac23"
   }
  }
 },
 "nbformat": 4,
 "nbformat_minor": 2
}
